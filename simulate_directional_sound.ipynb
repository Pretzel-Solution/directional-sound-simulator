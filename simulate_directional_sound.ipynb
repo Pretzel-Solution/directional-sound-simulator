{
  "nbformat": 4,
  "nbformat_minor": 0,
  "metadata": {
    "colab": {
      "name": "simulate_directional_sound.ipynb",
      "provenance": [],
      "collapsed_sections": [],
      "toc_visible": true,
      "mount_file_id": "1EU3f_86rV_cmLV-lcA5EvYVbh6SbCglI",
      "authorship_tag": "ABX9TyN5wNbnhDhWl5fe5P+xl70L",
      "include_colab_link": true
    },
    "kernelspec": {
      "name": "python3",
      "display_name": "Python 3"
    }
  },
  "cells": [
    {
      "cell_type": "markdown",
      "metadata": {
        "id": "view-in-github",
        "colab_type": "text"
      },
      "source": [
        "<a href=\"https://colab.research.google.com/github/Pretzel-Solution/directional-sound-simulator/blob/master/simulate_directional_sound.ipynb\" target=\"_parent\"><img src=\"https://colab.research.google.com/assets/colab-badge.svg\" alt=\"Open In Colab\"/></a>"
      ]
    },
    {
      "cell_type": "code",
      "metadata": {
        "id": "kBPpRA0u-pwX",
        "colab_type": "code",
        "colab": {}
      },
      "source": [
        "#!pip install sofasonix\n",
        "#press \"Mount Drive\""
      ],
      "execution_count": null,
      "outputs": []
    },
    {
      "cell_type": "code",
      "metadata": {
        "id": "h1oQNCFx_QIL",
        "colab_type": "code",
        "colab": {}
      },
      "source": [
        "import numpy as np\n",
        "import matplotlib.pyplot as plt\n",
        "from SOFASonix import SOFAFile\n",
        "import scipy.io.wavfile as wav\n"
      ],
      "execution_count": null,
      "outputs": []
    },
    {
      "cell_type": "code",
      "metadata": {
        "id": "QsdGpuMT_FAg",
        "colab_type": "code",
        "colab": {
          "base_uri": "https://localhost:8080/",
          "height": 186
        },
        "outputId": "75c5ad7f-0c81-4826-8ccf-0106d19e3dca"
      },
      "source": [
        "loadsofa = SOFAFile.load(\"/content/drive/My Drive/binaural localization/HRIR_FULL2DEG.sofa\")\n",
        "data = loadsofa.data_ir\n",
        "direction = loadsofa.SourcePosition\n",
        "direction = direction[:,0:2]\n",
        "#loadsofa.view()"
      ],
      "execution_count": null,
      "outputs": [
        {
          "output_type": "stream",
          "text": [
            "Setting dimension 'r' from parameter 'ReceiverPosition'\n",
            "Setting dimension 'e' from parameter 'EmitterPosition'\n",
            "Setting dimension 'm' from parameter 'Data.IR'\n",
            "Setting dimension 'n' from parameter 'Data.IR'\n",
            "Inserting foreign parameter: 'GLOBAL:Author'\n",
            "Inserting foreign parameter: 'GLOBAL:ListenerDescription'\n",
            "Inserting foreign parameter: 'GLOBAL:ReceiverDescription'\n",
            "Inserting foreign parameter: 'GLOBAL:SourceDescription'\n",
            "Inserting foreign parameter: 'GLOBAL:RoomDescription'\n"
          ],
          "name": "stdout"
        }
      ]
    },
    {
      "cell_type": "code",
      "metadata": {
        "id": "Xcp1W_Huo0w4",
        "colab_type": "code",
        "colab": {}
      },
      "source": [
        "def get_hrir(az_wish, el_wish):\n",
        "  m_altered = np.abs(direction[:,0]- az_wish) + np.abs(direction[:,1]- el_wish)\n",
        "  m_min = np.amin(m_altered, axis=0)\n",
        "  i_row = np.argwhere(m_altered == m_min)[0][0]\n",
        "  return data[i_row][0], data[i_row][1], i_row"
      ],
      "execution_count": null,
      "outputs": []
    },
    {
      "cell_type": "code",
      "metadata": {
        "id": "3ImsSqE2W0Ic",
        "colab_type": "code",
        "colab": {}
      },
      "source": [
        "def plot_hrir(az_wish, el_wish):\n",
        "  hrir_l, hrir_r, i_row = get_hrir(az_wish, el_wish)\n",
        "  t = np.linspace(0, len(hrir_l)/loadsofa.Data_SamplingRate, len(hrir_l))\n",
        "  fig, ax = plt.subplots(2,1, figsize=(8,6))\n",
        "  ax[0].plot(t, hrir_l, '-k')\n",
        "  ax[0].set(title = 'HRIR left', xlabel='time in s', ylabel='amplitude')\n",
        "  ax[1].plot(t, hrir_r, '-k')\n",
        "  ax[1].set(title = 'HRIR right', xlabel= 'time in s', ylabel= 'amplitude')\n",
        "  fig.suptitle('Azimuth: '+str(direction[i_row][0].round(1))+'° Elevation: '+str(direction[i_row][1].round(1))+'°')\n",
        "  #fig.tight_layout()  \n"
      ],
      "execution_count": null,
      "outputs": []
    },
    {
      "cell_type": "code",
      "metadata": {
        "id": "PCW-ZDzHBax6",
        "colab_type": "code",
        "colab": {}
      },
      "source": [
        "def get_stereo_noise(az_wish, el_wish):\n",
        "  duration = 3 #seconds\n",
        "  sampling_rate = int(loadsofa.Data_SamplingRate[0]) #Hz\n",
        "  sample_n = duration*sampling_rate\n",
        "  t = np.linspace(0, duration, sample_n)\n",
        "  hrir_l, hrir_r, i_row = get_hrir(az_wish, el_wish)\n",
        "\n",
        "  noise = np.random.uniform(-1,1,sample_n)\n",
        "  left = np.convolve(noise, hrir_l, mode='valid') # 'valid': avoid boundary effects; The convolution product is only given for points where the signals overlap completely\n",
        "  right = np.convolve(noise, hrir_r, mode='valid')\n",
        "  audio = np.hstack((left.reshape(-1,1),right.reshape(-1,1)))\n",
        "  scaled = np.int16(audio/np.max(np.abs(audio)) * 32767)\n",
        "  wav.write('/content/drive/My Drive/binaural localization/WAV/noise['+str(direction[i_row][0].round(1))+', '+str(direction[i_row][1].round(1))+'].wav', sampling_rate, scaled)"
      ],
      "execution_count": null,
      "outputs": []
    },
    {
      "cell_type": "code",
      "metadata": {
        "id": "KL3o6FOqwobW",
        "colab_type": "code",
        "colab": {}
      },
      "source": [
        "def get_stereo_audio(az_wish, el_wish):\n",
        "  hrir_l, hrir_r, i_row = get_hrir(az_wish, el_wish)\n",
        "  load_sprache = wav.read('/content/drive/My Drive/binaural localization/test_nic.wav')\n",
        "  sprache = load_sprache[1]\n",
        "  sampling_rate = load_sprache[0] \n",
        "  if  loadsofa.Data_SamplingRate[0] != sampling_rate:\n",
        "    print(\"Sampling rate of recording and HRIR do not match!\")\n",
        "  left = np.convolve(sprache, hrir_l, mode='valid') # 'valid': avoid boundary effects; The convolution product is only given for points where the signals overlap completely\n",
        "  right = np.convolve(sprache, hrir_r, mode='valid')\n",
        "  audio = np.hstack((left.reshape(-1,1),right.reshape(-1,1)))\n",
        "  scaled = np.int16(audio/np.max(np.abs(audio)) * 32767)\n",
        "  wav.write('/content/drive/My Drive/binaural localization/WAV/audio['+str(direction[i_row][0].round(1))+', '+str(direction[i_row][1].round(1))+'].wav', sampling_rate, scaled)"
      ],
      "execution_count": null,
      "outputs": []
    },
    {
      "cell_type": "code",
      "metadata": {
        "id": "_70zIysLDB1z",
        "colab_type": "code",
        "colab": {}
      },
      "source": [
        "def get_roundabout():\n",
        "  load_sprache = wav.read('/content/drive/My Drive/binaural localization/hallo2.wav')\n",
        "  sprache = load_sprache[1]\n",
        "  sampling_rate = load_sprache[0]\n",
        "\n",
        "  hrir_l, hrir_r, i_row = get_hrir(0, el_wish=0)\n",
        "  left = np.convolve(sprache, hrir_l, mode='valid')\n",
        "  right = np.convolve(sprache, hrir_r, mode='valid')\n",
        "  audio = np.hstack((left.reshape(-1,1),right.reshape(-1,1)))\n",
        "  for az_wish in np.arange(0,365,30):\n",
        "    hrir_l, hrir_r, i_row = get_hrir(az_wish, el_wish=0)\n",
        "    left = np.convolve(sprache, hrir_l, mode='valid')\n",
        "    right = np.convolve(sprache, hrir_r, mode='valid')\n",
        "    audio_n = np.hstack((left.reshape(-1,1),right.reshape(-1,1)))\n",
        "    audio = np.vstack((audio,audio_n))\n",
        "  scaled = np.int16(audio/np.max(np.abs(audio)) * 32767)\n",
        "  wav.write('/content/drive/My Drive/binaural localization/audio_roundabout_hallo.wav', sampling_rate, scaled)"
      ],
      "execution_count": null,
      "outputs": []
    },
    {
      "cell_type": "code",
      "metadata": {
        "id": "XmxuWVwVJP2v",
        "colab_type": "code",
        "colab": {
          "base_uri": "https://localhost:8080/",
          "height": 54
        },
        "outputId": "3f2113ac-735f-4f92-d474-08d60619a18e"
      },
      "source": [
        "np.arange(30,365,30)"
      ],
      "execution_count": null,
      "outputs": [
        {
          "output_type": "execute_result",
          "data": {
            "text/plain": [
              "array([ 30,  60,  90, 120, 150, 180, 210, 240, 270, 300, 330, 360])"
            ]
          },
          "metadata": {
            "tags": []
          },
          "execution_count": 10
        }
      ]
    },
    {
      "cell_type": "code",
      "metadata": {
        "id": "iPWchm18Fpxk",
        "colab_type": "code",
        "colab": {}
      },
      "source": [
        "get_roundabout()"
      ],
      "execution_count": null,
      "outputs": []
    },
    {
      "cell_type": "code",
      "metadata": {
        "id": "VOS6g-Dl7CPJ",
        "colab_type": "code",
        "colab": {}
      },
      "source": [
        "for el in np.arange(0,360,10):\n",
        "  get_stereo_audio(el, 0)"
      ],
      "execution_count": null,
      "outputs": []
    },
    {
      "cell_type": "code",
      "metadata": {
        "id": "LF1cmAyK2tbq",
        "colab_type": "code",
        "colab": {}
      },
      "source": [
        "get_stereo_noise(45,0)"
      ],
      "execution_count": null,
      "outputs": []
    },
    {
      "cell_type": "code",
      "metadata": {
        "id": "O-GvX8LQfseV",
        "colab_type": "code",
        "colab": {}
      },
      "source": [
        "plot_hrir(az_wish=45, el_wish=1)"
      ],
      "execution_count": null,
      "outputs": []
    },
    {
      "cell_type": "code",
      "metadata": {
        "id": "SCHlUsqKdD51",
        "colab_type": "code",
        "colab": {}
      },
      "source": [
        "\n",
        "get_wav(5,0)\n",
        "# get_wav(360-45,0)"
      ],
      "execution_count": null,
      "outputs": []
    },
    {
      "cell_type": "code",
      "metadata": {
        "id": "r-0ybijzgKb9",
        "colab_type": "code",
        "colab": {
          "base_uri": "https://localhost:8080/",
          "height": 54
        },
        "outputId": "bb43ec94-1d5d-408d-cc7d-52bbdccf161f"
      },
      "source": [
        "hrir_l, hrir_r, i_row = get_hrir(az_wish=45, el_wish=0)\n",
        "direction[i_row][0]"
      ],
      "execution_count": null,
      "outputs": [
        {
          "output_type": "execute_result",
          "data": {
            "text/plain": [
              "44.0"
            ]
          },
          "metadata": {
            "tags": []
          },
          "execution_count": 28
        }
      ]
    }
  ]
}